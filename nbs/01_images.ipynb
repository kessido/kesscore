{
 "cells": [
  {
   "cell_type": "code",
   "execution_count": null,
   "metadata": {},
   "outputs": [],
   "source": [
    "#default_exp images"
   ]
  },
  {
   "cell_type": "code",
   "execution_count": null,
   "metadata": {},
   "outputs": [],
   "source": [
    "#export \n",
    "from kesscore.imports import *\n",
    "from kesscore.functional import *\n",
    "from functools import wraps"
   ]
  },
  {
   "cell_type": "code",
   "execution_count": null,
   "metadata": {},
   "outputs": [],
   "source": [
    "#export\n",
    "def _convert(im):\n",
    "    if isinstance(im, (str, Path)): im = load_image(im)\n",
    "    if isinstance(im, Tensor):      im = to_image(im)\n",
    "    return im\n",
    "def _converts(im): return L(list(im)).map(_convert)\n",
    "\n",
    "def _convert_title(o):\n",
    "    if isinstance(o, (str,Path)): o = (o,o)\n",
    "    return (_convert(o[0]), o[1]) if isinstance(o,tuple) else _convert(o)\n",
    "def _convert_titles(o): return L(list(o)).map(_convert_title)\n",
    "\n",
    "def _a2f(f, g): \n",
    "    'apply `g` to first arguments of `f`'\n",
    "    @wraps(f)\n",
    "    def _inner(x, *args, **kwargs): return f(g(x),*args,**kwargs)\n",
    "    return _inner"
   ]
  },
  {
   "cell_type": "code",
   "execution_count": null,
   "metadata": {},
   "outputs": [],
   "source": [
    "#export\n",
    "show_image        = _a2f(show_image       , _convert)\n",
    "show_images       = _a2f(show_images      , _converts)\n",
    "show_titled_image = _a2f(show_titled_image, _convert_title)"
   ]
  },
  {
   "cell_type": "code",
   "execution_count": null,
   "metadata": {},
   "outputs": [],
   "source": [
    "#export\n",
    "@delegates(show_images)\n",
    "def show_titled_images(o, **kwargs):\n",
    "    o = L(list(o)).map(_convert_titles)\n",
    "    if isinstance(o[0], tuple):\n",
    "        o,titles = o.zip()\n",
    "        if 'titles' not in kwargs.keys(): kwargs['titles'] = titles\n",
    "    return show_images(o, **kwargs)"
   ]
  },
  {
   "cell_type": "code",
   "execution_count": null,
   "metadata": {},
   "outputs": [],
   "source": [
    "from nbdev.sync import notebook2script"
   ]
  },
  {
   "cell_type": "code",
   "execution_count": null,
   "metadata": {},
   "outputs": [
    {
     "name": "stdout",
     "output_type": "stream",
     "text": [
      "Converted 00_functional.ipynb.\n",
      "Converted 01_images.ipynb.\n",
      "Converted 02_fastdl.ipynb.\n",
      "Converted 03_datadownload.ipynb.\n",
      "Converted 04_random.ipynb.\n",
      "Converted 05_tensor.ipynb.\n",
      "Converted index.ipynb.\n"
     ]
    }
   ],
   "source": [
    "notebook2script()"
   ]
  }
 ],
 "metadata": {
  "kernelspec": {
   "display_name": "Python 3",
   "language": "python",
   "name": "python3"
  }
 },
 "nbformat": 4,
 "nbformat_minor": 4
}
