{
 "cells": [
  {
   "cell_type": "code",
   "execution_count": null,
   "metadata": {},
   "outputs": [],
   "source": [
    "#default_exp images"
   ]
  },
  {
   "cell_type": "code",
   "execution_count": null,
   "metadata": {},
   "outputs": [],
   "source": [
    "#export \n",
    "from kesscore.imports import *\n",
    "from kesscore.functional import *\n",
    "from functools import wraps"
   ]
  },
  {
   "cell_type": "code",
   "execution_count": null,
   "metadata": {},
   "outputs": [],
   "source": [
    "#export\n",
    "@typedispatch\n",
    "def _convert(im:(str,Path)):     return load_image(im)\n",
    "@typedispatch\n",
    "def _convert(im:(torch.Tensor)): return to_image(im)\n",
    "\n",
    "def _converts(im): return L(list(im)).map(_convert)\n",
    "\n",
    "def _a2f(f, g): \n",
    "    'apply `g` to first arguments of `f`'\n",
    "    @wraps(f)\n",
    "    def _inner(x, *args, **kwargs): return f(g(x),*args,**kwargs)\n",
    "    return _inner\n",
    "\n",
    "show_image        = _a2f(show_image,        _convert)\n",
    "show_images       = _a2f(show_images,       _converts)"
   ]
  },
  {
   "cell_type": "code",
   "execution_count": null,
   "metadata": {},
   "outputs": [],
   "source": [
    "from nbdev.sync import notebook2script"
   ]
  },
  {
   "cell_type": "code",
   "execution_count": null,
   "metadata": {},
   "outputs": [
    {
     "name": "stdout",
     "output_type": "stream",
     "text": [
      "Converted 00_functional.ipynb.\n",
      "Converted 01_images.ipynb.\n",
      "Converted 02_fastdl.ipynb.\n",
      "Converted 03_datadownload.ipynb.\n",
      "Converted 04_random.ipynb.\n",
      "Converted index.ipynb.\n"
     ]
    }
   ],
   "source": [
    "notebook2script()"
   ]
  }
 ],
 "metadata": {
  "kernelspec": {
   "display_name": "Python 3",
   "language": "python",
   "name": "python3"
  }
 },
 "nbformat": 4,
 "nbformat_minor": 4
}
