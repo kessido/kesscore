{
 "cells": [
  {
   "cell_type": "code",
   "execution_count": null,
   "metadata": {},
   "outputs": [],
   "source": [
    "#default_exp images"
   ]
  },
  {
   "cell_type": "code",
   "execution_count": null,
   "metadata": {},
   "outputs": [],
   "source": [
    "#export \n",
    "from kesscore.imports import *"
   ]
  },
  {
   "cell_type": "code",
   "execution_count": null,
   "metadata": {},
   "outputs": [],
   "source": [
    "#export\n",
    "def _load_image(im): return load_image(im) if isinstance(im, (str, Path)) else im\n",
    "\n",
    "_show_image = show_image\n",
    "@delegates(_show_image)\n",
    "def show_image(im, **kwargs): return _show_image(_load_image(im), **kwargs)\n",
    "\n",
    "_show_images = show_images\n",
    "@delegates(_show_images)\n",
    "def show_images(ims, **kwargs): return _show_images(L(ims).map(_load_image), **kwargs)\n",
    "\n",
    "@delegates(show_images)\n",
    "def show_images_fpath(img_paths:list, **kwargs):\n",
    "    if 'titles' not in kwargs: kwargs['titles'] = img_paths\n",
    "    return show_images(img_paths, **kwargs)\n",
    "\n",
    "_show_titled_image = show_titled_image\n",
    "@delegates(_show_titled_image)\n",
    "def show_titled_image(o, **kwargs):\n",
    "    if isinstance(o, (str,Path)): o = (o, o)\n",
    "    o = (_load_image(o[0]), *o[1:])\n",
    "    return _prev_show_titled_image(o)"
   ]
  },
  {
   "cell_type": "code",
   "execution_count": null,
   "metadata": {},
   "outputs": [],
   "source": [
    "from nbdev.sync import notebook2script"
   ]
  },
  {
   "cell_type": "code",
   "execution_count": null,
   "metadata": {},
   "outputs": [
    {
     "name": "stdout",
     "output_type": "stream",
     "text": [
      "Converted 00_functional.ipynb.\n",
      "Converted 01_images.ipynb.\n",
      "Converted 02_fastdl.ipynb.\n",
      "Converted 03_datadownload.ipynb.\n",
      "Converted index.ipynb.\n"
     ]
    }
   ],
   "source": [
    "notebook2script()"
   ]
  }
 ],
 "metadata": {
  "kernelspec": {
   "display_name": "Python 3",
   "language": "python",
   "name": "python3"
  }
 },
 "nbformat": 4,
 "nbformat_minor": 4
}
