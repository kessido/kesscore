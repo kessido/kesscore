{
 "cells": [
  {
   "cell_type": "code",
   "execution_count": null,
   "metadata": {},
   "outputs": [],
   "source": [
    "#default_exp images"
   ]
  },
  {
   "cell_type": "code",
   "execution_count": null,
   "metadata": {},
   "outputs": [],
   "source": [
    "#export \n",
    "from kesscore.imports import *\n",
    "from kesscore.functional import *\n",
    "from functools import wraps"
   ]
  },
  {
   "cell_type": "code",
   "execution_count": null,
   "metadata": {},
   "outputs": [],
   "source": [
    "#export\n",
    "def _is_path(im):          return isinstance(im, (str, Path))\n",
    "def _load_path(im):        return load_image(im)       if _is_path(im) else im\n",
    "def _tuplefy_load_path(im):return (load_image(im), im) if _is_path(im) else im\n",
    "\n",
    "def _load_paths(im):         return L(im).map(_load_path)\n",
    "def _tuplefy_load_paths(im):return L(im).map(_tuplefy_load_path)\n",
    "\n",
    "def _a2f(f, g): \n",
    "    'apply `g` to first arguments of `f`'\n",
    "    @wraps(f)\n",
    "    def _inner(x, *args, **kwargs): return f(g(x),*args,**kwargs)\n",
    "    return _inner\n",
    "\n",
    "show_image        = _a2f(show_image,        _load_path)\n",
    "show_images       = _a2f(show_images,       _load_paths)\n",
    "show_titled_image = _a2f(show_titled_image, _tuplefy_load_path)\n",
    "@delegates(show_images)\n",
    "def show_titled_images(ims, **kwargs):\n",
    "    if 'titles' not in kwargs and L(ims).map(_is_path).all():\n",
    "        ims=_tuplefy_load_paths(ims)\n",
    "        ims,kwargs['titles']=zip(*ims)\n",
    "    return show_images(ims,**kwargs)"
   ]
  },
  {
   "cell_type": "code",
   "execution_count": null,
   "metadata": {},
   "outputs": [],
   "source": [
    "from nbdev.sync import notebook2script"
   ]
  },
  {
   "cell_type": "code",
   "execution_count": null,
   "metadata": {},
   "outputs": [
    {
     "name": "stdout",
     "output_type": "stream",
     "text": [
      "Converted 00_functional.ipynb.\n",
      "Converted 01_images.ipynb.\n",
      "Converted 02_fastdl.ipynb.\n",
      "Converted 03_datadownload.ipynb.\n",
      "Converted index.ipynb.\n"
     ]
    }
   ],
   "source": [
    "notebook2script()"
   ]
  }
 ],
 "metadata": {
  "kernelspec": {
   "display_name": "Python 3",
   "language": "python",
   "name": "python3"
  }
 },
 "nbformat": 4,
 "nbformat_minor": 4
}
