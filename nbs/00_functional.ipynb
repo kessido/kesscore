{
 "cells": [
  {
   "cell_type": "code",
   "execution_count": null,
   "metadata": {},
   "outputs": [],
   "source": [
    "# default_exp functional"
   ]
  },
  {
   "cell_type": "code",
   "execution_count": null,
   "metadata": {},
   "outputs": [],
   "source": [
    "#export\n",
    "from kesscore.imports import *\n",
    "from decorator import decorator\n",
    "from functools import wraps"
   ]
  },
  {
   "cell_type": "code",
   "execution_count": null,
   "metadata": {},
   "outputs": [],
   "source": [
    "#export\n",
    "def _wrapify(f, t):\n",
    "    @wraps(f)\n",
    "    def _inner(*args,**kwargs): return t(f(*args,**kwargs))\n",
    "    return _inner\n",
    "_listify = partial(_wrapify, t=list)\n",
    "_Listify = partial(_wrapify, t=L)"
   ]
  },
  {
   "cell_type": "code",
   "execution_count": null,
   "metadata": {},
   "outputs": [],
   "source": [
    "#export\n",
    "lmap = _listify(map)\n",
    "lzip = _listify(zip)\n",
    "lfilter = _listify(filter)\n",
    "lrange = _listify(range)\n",
    "Lmap = _Listify(map)\n",
    "Lzip = _Listify(zip)\n",
    "Lfilter = _Listify(filter)\n",
    "Lrange = _Listify(range)"
   ]
  },
  {
   "cell_type": "code",
   "execution_count": null,
   "metadata": {},
   "outputs": [],
   "source": [
    "test_eq_type(lmap(noop, [1,2,3]),          [1,2,3])\n",
    "test_eq_type(lzip([1,2],[3,4]),            [(1,3),(2,4)])\n",
    "test_eq_type(lfilter(ge(2), [1,2,3,4]),    [2,3,4])\n",
    "test_eq_type(lrange(3),                    [0,1,2])\n",
    "test_eq_type(Lmap(noop, [1,2,3]),          L([1,2,3]))\n",
    "test_eq_type(Lzip([1,2],[3,4]),            L([(1,3),(2,4)]))\n",
    "test_eq_type(Lfilter(ge(2), [1,2,3,4]),    L([2,3,4]))\n",
    "test_eq_type(Lrange(3),                    L([0,1,2]))"
   ]
  },
  {
   "cell_type": "code",
   "execution_count": null,
   "metadata": {},
   "outputs": [],
   "source": [
    "#export\n",
    "def _all(self:L)->bool: return all(self)\n",
    "L.all = _all"
   ]
  },
  {
   "cell_type": "code",
   "execution_count": null,
   "metadata": {},
   "outputs": [],
   "source": [
    "assert not L([True, False, True] ).all()\n",
    "assert not L([True, True,  False]).all()\n",
    "assert     L([True, True,  True] ).all()"
   ]
  },
  {
   "cell_type": "code",
   "execution_count": null,
   "metadata": {},
   "outputs": [],
   "source": [
    "#export\n",
    "_isinstance = isinstance\n",
    "def isinstance(obj, class_or_tuple=None):\n",
    "    'Like isinstance but support creating partial versions, e.g, isinstance(int)(1) is True.'\n",
    "    if class_or_tuple is None:\n",
    "        class_or_tuple = obj\n",
    "        def _inner(obj): \n",
    "            return _isinstance(obj, class_or_tuple)\n",
    "        _inner.__doc__ = f'Check if `obj` is of type\\\\s: {class_or_tuple}'\n",
    "        return _inner\n",
    "    return _isinstance(obj,class_or_tuple)"
   ]
  },
  {
   "cell_type": "code",
   "execution_count": null,
   "metadata": {},
   "outputs": [],
   "source": [
    "assert isinstance(obj=1, class_or_tuple=int)\n",
    "assert isinstance(int)(1)\n",
    "test_fail(lambda: isinstance(1)(int), contains='isinstance() arg 2 must be a type or tuple of types')"
   ]
  },
  {
   "cell_type": "code",
   "execution_count": null,
   "metadata": {},
   "outputs": [],
   "source": [
    "assert isinstance(int)(1)\n",
    "assert all(map(isinstance((list, int)), [1, 2, 3, [1, 2, 3]]))\n",
    "assert not isinstance((list, int))((1, 2, 3))"
   ]
  },
  {
   "cell_type": "code",
   "execution_count": null,
   "metadata": {},
   "outputs": [],
   "source": [
    "from nbdev.sync import notebook2script"
   ]
  },
  {
   "cell_type": "code",
   "execution_count": null,
   "metadata": {},
   "outputs": [
    {
     "name": "stdout",
     "output_type": "stream",
     "text": [
      "Converted 00_functional.ipynb.\n",
      "Converted 01_images.ipynb.\n",
      "Converted 02_fastdl.ipynb.\n",
      "Converted 03_datadownload.ipynb.\n",
      "Converted 04_random.ipynb.\n",
      "Converted 05_tensor.ipynb.\n",
      "Converted index.ipynb.\n"
     ]
    }
   ],
   "source": [
    "notebook2script()"
   ]
  }
 ],
 "metadata": {
  "kernelspec": {
   "display_name": "Python 3",
   "language": "python",
   "name": "python3"
  }
 },
 "nbformat": 4,
 "nbformat_minor": 4
}
