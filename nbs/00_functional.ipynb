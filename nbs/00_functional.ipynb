{
 "cells": [
  {
   "cell_type": "code",
   "execution_count": null,
   "metadata": {},
   "outputs": [],
   "source": [
    "#default_exp functional"
   ]
  },
  {
   "cell_type": "code",
   "execution_count": null,
   "metadata": {},
   "outputs": [],
   "source": [
    "#export\n",
    "from kesscore.imports import *\n",
    "from functools import wraps"
   ]
  },
  {
   "cell_type": "code",
   "execution_count": null,
   "metadata": {},
   "outputs": [],
   "source": [
    "#export\n",
    "def _wrapify(f, t):\n",
    "    @wraps(f)\n",
    "    def _inner(*args,**kwargs): return t(f(*args,**kwargs))\n",
    "    return _inner\n",
    "_listify = partial(_wrapify, t=list)\n",
    "_Listify = partial(_wrapify, t=L)"
   ]
  },
  {
   "cell_type": "code",
   "execution_count": null,
   "metadata": {},
   "outputs": [],
   "source": [
    "#export\n",
    "lmap = _listify(map)\n",
    "lzip = _listify(zip)\n",
    "lfilter = _listify(filter)\n",
    "lrange = _listify(range)\n",
    "Lmap = _Listify(map)\n",
    "Lzip = _Listify(zip)\n",
    "Lfilter = _Listify(filter)\n",
    "Lrange = _Listify(range)"
   ]
  },
  {
   "cell_type": "code",
   "execution_count": null,
   "metadata": {},
   "outputs": [],
   "source": [
    "test_eq_type(lmap(noop, [1,2,3]),          [1,2,3])\n",
    "test_eq_type(lzip([1,2],[3,4]),            [(1,3),(2,4)])\n",
    "test_eq_type(lfilter(ge(2), [1,2,3,4]),    [2,3,4])\n",
    "test_eq_type(lrange(3),                    [0,1,2])\n",
    "test_eq_type(Lmap(noop, [1,2,3]),          L([1,2,3]))\n",
    "test_eq_type(Lzip([1,2],[3,4]),            L([(1,3),(2,4)]))\n",
    "test_eq_type(Lfilter(ge(2), [1,2,3,4]),    L([2,3,4]))\n",
    "test_eq_type(Lrange(3),                    L([0,1,2]))"
   ]
  },
  {
   "cell_type": "code",
   "execution_count": null,
   "metadata": {},
   "outputs": [],
   "source": [
    "#export\n",
    "def _all(self:L)->bool: return all(self)\n",
    "L.all = _all"
   ]
  },
  {
   "cell_type": "code",
   "execution_count": null,
   "metadata": {},
   "outputs": [],
   "source": [
    "assert not L([True, False, True] ).all()\n",
    "assert not L([True, True,  False]).all()\n",
    "assert     L([True, True,  True] ).all()"
   ]
  },
  {
   "cell_type": "code",
   "execution_count": null,
   "metadata": {},
   "outputs": [],
   "source": [
    "#export\n",
    "@patch\n",
    "def all_eq(self:L)->bool: return all([self[i] == self[i-1] for i in range(1, len(self))])"
   ]
  },
  {
   "cell_type": "code",
   "execution_count": null,
   "metadata": {},
   "outputs": [],
   "source": [
    "assert L(1,1,1,1).all_eq()\n",
    "assert not L(1,10).all_eq()\n",
    "assert L(1, True).all_eq()"
   ]
  },
  {
   "cell_type": "code",
   "execution_count": null,
   "metadata": {},
   "outputs": [],
   "source": [
    "#export\n",
    "@patch\n",
    "def assert_all_eq(self:L)->bool: assert self.all_eq(), f'Not all elements are equal. {self.unique()=}. ({coll_repr(self)})'"
   ]
  },
  {
   "cell_type": "code",
   "execution_count": null,
   "metadata": {},
   "outputs": [],
   "source": [
    "test_fail(lambda:L(1,2,3).assert_all_eq(), contains='Not all elements are equal. self.unique()=[1, 2, 3]')\n",
    "import decimal\n",
    "L(1,True,1.0,decimal.Decimal('1.00000000')).assert_all_eq()"
   ]
  },
  {
   "cell_type": "code",
   "execution_count": null,
   "metadata": {},
   "outputs": [],
   "source": [
    "#export\n",
    "@patch \n",
    "def assert_eq(self:L, other)->bool:\n",
    "    assert isinstance(other, (L, tuple, list)), f'Unsupported type to compare with {type(other)=}'\n",
    "    assert len(self) == len(other), f'list lengths are not equal. {len(self)=}, {len(other)=}'\n",
    "    for i in range(len(self)): assert self[i] == other[i], f'element {i=} is not equal in lists. {self[i]=}, {other[i]=}'"
   ]
  },
  {
   "cell_type": "code",
   "execution_count": null,
   "metadata": {},
   "outputs": [],
   "source": [
    "test_fail(lambda:L(1,2,3).assert_eq([1,2,3,4]), contains='list lengths are not equal. len(self)=3, len(other)=4')\n",
    "test_fail(lambda:L(1,2,3).assert_eq([1,3,2]),   contains='element i=1 is not equal in lists. self[i]=2, other[i]=3')\n",
    "L(1,2,3).assert_eq([1,2,3])"
   ]
  },
  {
   "cell_type": "code",
   "execution_count": null,
   "metadata": {},
   "outputs": [],
   "source": [
    "#export\n",
    "_isinstance = isinstance\n",
    "def isinstance(obj, class_or_tuple=None):\n",
    "    'Like isinstance but support creating partial versions, e.g, isinstance(int)(1) is True.'\n",
    "    if class_or_tuple is None:\n",
    "        class_or_tuple = obj\n",
    "        def _inner(obj): \n",
    "            return _isinstance(obj, class_or_tuple)\n",
    "        _inner.__doc__ = f'Check if `obj` is of type\\\\s: {class_or_tuple}'\n",
    "        return _inner\n",
    "    return _isinstance(obj,class_or_tuple)"
   ]
  },
  {
   "cell_type": "code",
   "execution_count": null,
   "metadata": {},
   "outputs": [],
   "source": [
    "assert isinstance(obj=1, class_or_tuple=int)\n",
    "assert isinstance(int)(1)\n",
    "test_fail(lambda: isinstance(1)(int), contains='isinstance() arg 2 must be a type or tuple of types')"
   ]
  },
  {
   "cell_type": "code",
   "execution_count": null,
   "metadata": {},
   "outputs": [],
   "source": [
    "assert isinstance(int)(1)\n",
    "assert all(map(isinstance((list, int)), [1, 2, 3, [1, 2, 3]]))\n",
    "assert not isinstance((list, int))((1, 2, 3))"
   ]
  },
  {
   "cell_type": "code",
   "execution_count": null,
   "metadata": {},
   "outputs": [],
   "source": [
    "#export\n",
    "def compose_star(*funcs):\n",
    "    'like compose but pass *x to functions'\n",
    "    def _inner(*x):\n",
    "        for f in funcs: x = f(*x)\n",
    "        return x\n",
    "    return _inner"
   ]
  },
  {
   "cell_type": "code",
   "execution_count": null,
   "metadata": {},
   "outputs": [],
   "source": [
    "from nbdev.sync import notebook2script"
   ]
  },
  {
   "cell_type": "code",
   "execution_count": null,
   "metadata": {},
   "outputs": [
    {
     "name": "stdout",
     "output_type": "stream",
     "text": [
      "Converted 00_functional.ipynb.\n",
      "Converted 01_images.ipynb.\n",
      "Converted 02_download.ipynb.\n",
      "Converted 03_tensor.ipynb.\n",
      "Converted 04_random.ipynb.\n",
      "Converted index.ipynb.\n"
     ]
    }
   ],
   "source": [
    "notebook2script()"
   ]
  }
 ],
 "metadata": {
  "kernelspec": {
   "display_name": "Python 3",
   "language": "python",
   "name": "python3"
  }
 },
 "nbformat": 4,
 "nbformat_minor": 4
}
