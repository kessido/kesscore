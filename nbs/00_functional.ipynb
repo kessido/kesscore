{
 "cells": [
  {
   "cell_type": "code",
   "execution_count": null,
   "metadata": {},
   "outputs": [],
   "source": [
    "#default_exp functional"
   ]
  },
  {
   "cell_type": "code",
   "execution_count": null,
   "metadata": {},
   "outputs": [],
   "source": [
    "#exports\n",
    "from kesscore.imports import *\n",
    "from functools import wraps"
   ]
  },
  {
   "cell_type": "code",
   "execution_count": null,
   "metadata": {},
   "outputs": [],
   "source": [
    "#exports\n",
    "def zip_cycle_longest(*args):\n",
    "    \"Like `itertools.zip_longest` but `cycle`s through elements of all but longest argument\"\n",
    "    args = L(list(args)).map(list)\n",
    "    n    = args.map(len).reduce(max)\n",
    "    for i in range(n): yield tuple(a[i%len(a)] for a in args)"
   ]
  },
  {
   "cell_type": "code",
   "execution_count": null,
   "metadata": {},
   "outputs": [],
   "source": [
    "test_eq(list(zip_cycle_longest([1,2],[3,4,5])), [(1,3),(2,4),(1,5)])"
   ]
  },
  {
   "cell_type": "code",
   "execution_count": null,
   "metadata": {},
   "outputs": [],
   "source": [
    "#exports\n",
    "def _wrapify(f, t):\n",
    "    @wraps(f)\n",
    "    def _inner(*args,**kwargs): return t(f(*args,**kwargs))\n",
    "    return _inner\n",
    "_listify = partial(_wrapify, t=list)\n",
    "_Listify = partial(_wrapify, t=L)"
   ]
  },
  {
   "cell_type": "code",
   "execution_count": null,
   "metadata": {},
   "outputs": [],
   "source": [
    "#exports\n",
    "lmap = _listify(map)\n",
    "lzip = _listify(zip)\n",
    "lfilter = _listify(filter)\n",
    "lrange = _listify(range)\n",
    "Lmap = _Listify(map)\n",
    "Lzip = _Listify(zip)\n",
    "Lfilter = _Listify(filter)\n",
    "Lrange = _Listify(range)"
   ]
  },
  {
   "cell_type": "code",
   "execution_count": null,
   "metadata": {},
   "outputs": [],
   "source": [
    "test_eq_type(lmap(noop, [1,2,3]),          [1,2,3])\n",
    "test_eq_type(lzip([1,2],[3,4]),            [(1,3),(2,4)])\n",
    "test_eq_type(lfilter(ge(2), [1,2,3,4]),    [2,3,4])\n",
    "test_eq_type(lrange(3),                    [0,1,2])\n",
    "test_eq_type(Lmap(noop, [1,2,3]),          L([1,2,3]))\n",
    "test_eq_type(Lzip([1,2],[3,4]),            L([(1,3),(2,4)]))\n",
    "test_eq_type(Lfilter(ge(2), [1,2,3,4]),    L([2,3,4]))\n",
    "test_eq_type(Lrange(3),                    L([0,1,2]))"
   ]
  },
  {
   "cell_type": "code",
   "execution_count": null,
   "metadata": {},
   "outputs": [],
   "source": [
    "#exports\n",
    "def _all(self:L)->bool: return all(self)\n",
    "L.all = _all"
   ]
  },
  {
   "cell_type": "code",
   "execution_count": null,
   "metadata": {},
   "outputs": [],
   "source": [
    "assert not L([True, False, True] ).all()\n",
    "assert not L([True, True,  False]).all()\n",
    "assert     L([True, True,  True] ).all()"
   ]
  },
  {
   "cell_type": "code",
   "execution_count": null,
   "metadata": {},
   "outputs": [],
   "source": [
    "#exports\n",
    "@patch\n",
    "def all_eq(self:L)->bool: return all([self[i] == self[i-1] for i in range(1, len(self))])"
   ]
  },
  {
   "cell_type": "code",
   "execution_count": null,
   "metadata": {},
   "outputs": [],
   "source": [
    "assert L(1,1,1,1).all_eq()\n",
    "assert not L(1,10).all_eq()\n",
    "assert L(1, True).all_eq()"
   ]
  },
  {
   "cell_type": "code",
   "execution_count": null,
   "metadata": {},
   "outputs": [],
   "source": [
    "#exports\n",
    "_isinstance = isinstance\n",
    "def isinstance(obj, class_or_tuple=None):\n",
    "    'Like isinstance but support creating partial versions, e.g, isinstance(int)(1) is True.'\n",
    "    if class_or_tuple is None:\n",
    "        class_or_tuple = obj\n",
    "        def _inner(obj): \n",
    "            return _isinstance(obj, class_or_tuple)\n",
    "        _inner.__doc__ = f'Check if `obj` is of type\\\\s: {class_or_tuple}'\n",
    "        return _inner\n",
    "    return _isinstance(obj,class_or_tuple)"
   ]
  },
  {
   "cell_type": "code",
   "execution_count": null,
   "metadata": {},
   "outputs": [],
   "source": [
    "assert isinstance(obj=1, class_or_tuple=int)\n",
    "assert isinstance(int)(1)\n",
    "test_fail(lambda: isinstance(1)(int), contains='isinstance() arg 2 must be a type or tuple of types')\n",
    "assert isinstance(int)(1)\n",
    "assert all(map(isinstance((list, int)), [1, 2, 3, [1, 2, 3]]))\n",
    "assert not isinstance((list, int))((1, 2, 3))"
   ]
  },
  {
   "cell_type": "code",
   "execution_count": null,
   "metadata": {},
   "outputs": [],
   "source": [
    "#exports\n",
    "def compose_star(*funcs):\n",
    "    'like compose but pass *x to functions'\n",
    "    def _inner(*x):\n",
    "        for f in funcs: x = f(*x)\n",
    "        return x\n",
    "    return _inner"
   ]
  },
  {
   "cell_type": "code",
   "execution_count": null,
   "metadata": {},
   "outputs": [],
   "source": [
    "def x(a,b): return a-1,b+1\n",
    "test_eq(compose_star(x,x,x)(5,0), (2,3))"
   ]
  },
  {
   "cell_type": "code",
   "execution_count": null,
   "metadata": {},
   "outputs": [],
   "source": [
    "#exports\n",
    "@patch\n",
    "def group_by(self:L, key=noop):\n",
    "    res = dict()\n",
    "    for v in self: res.setdefault(key(v), L()).append(v)\n",
    "    return res"
   ]
  },
  {
   "cell_type": "code",
   "execution_count": null,
   "metadata": {},
   "outputs": [],
   "source": [
    "test_eq_type(L([1,2,3,4]).group_by(lambda x:x%2), {0:[2,4], 1:[1,3]})"
   ]
  },
  {
   "cell_type": "code",
   "execution_count": null,
   "metadata": {},
   "outputs": [],
   "source": [
    "#exports\n",
    "def add_kwargs(**kwargs):\n",
    "    \"Decorator: add argument with default value to `**kwargs` in both signature and function\"\n",
    "    def _f(f):\n",
    "        @wraps(f)\n",
    "        def _inner(*args, **kw): return f(*args, **{**kwargs, **kw})\n",
    "        sig = inspect.signature(_inner)\n",
    "        sigd = dict(sig.parameters)\n",
    "        for k,v in kwargs.items():\n",
    "            if k in sigd.keys(): \n",
    "                assert sigd[k].kind.name not in ['POSITIONAL_ONLY', 'VAR_KEYWORD', 'VAR_POSITIONAL'], \\\n",
    "                       f'cannot assign an existing variable ({k!r}) of type {sigd[k].kind.name}'\n",
    "                sigd[k] = sigd[k].replace(default=v, kind=inspect._ParameterKind.KEYWORD_ONLY)\n",
    "            else: sigd[k] = inspect.Parameter(k, inspect._ParameterKind.KEYWORD_ONLY, default=v)\n",
    "        params = [[p for p in sigd.values() if p.kind == t] for t in range(5)]\n",
    "        _inner.__signature__ = sig.replace(parameters=concat(*params))\n",
    "        return _inner\n",
    "    return _f"
   ]
  },
  {
   "cell_type": "code",
   "execution_count": null,
   "metadata": {},
   "outputs": [
    {
     "data": {
      "text/html": [
       "<h4 id=\"a\" class=\"doc_header\"><code>a</code><a href=\"__main__.py#L1\" class=\"source_link\" style=\"float:right\">[source]</a></h4><blockquote><p><code>a</code>(<strong><code>x</code></strong>:<code>float</code>, <strong><code>y</code></strong>:<code>NoneType</code>, <strong>*<code>args</code></strong>:<code>int</code>, <strong><code>z</code></strong>:<code>int</code>, <strong><code>t</code></strong>:<code>str</code>=<em><code>3</code></em>, <strong>**<code>kwargs</code></strong>:<code>str</code>)</p>\n",
       "</blockquote>\n",
       "<p>Hey there :)</p>\n"
      ]
     },
     "metadata": {},
     "output_type": "display_data"
    }
   ],
   "source": [
    "def a(x:float, /, y:NoneType, *args:int, z:int, t:str=3, **kwargs:str): '''Hey there :)'''; pass\n",
    "doc(a)"
   ]
  },
  {
   "cell_type": "code",
   "execution_count": null,
   "metadata": {},
   "outputs": [],
   "source": [
    "test_fail(lambda:add_kwargs(x=3)(a), contains=\"cannot assign an existing variable ('x') of type POSITIONAL_ONLY\")"
   ]
  },
  {
   "cell_type": "code",
   "execution_count": null,
   "metadata": {},
   "outputs": [],
   "source": [
    "@add_kwargs(i=3, t=2)\n",
    "def a(x:float, /, y:NoneType, *args:int, z:int, t:str=3, **kwargs:str): \n",
    "    '''Hey there :)'''\n",
    "    return f'{x=},{y=},{args=},{z=},{t=},{kwargs=}'\n",
    "test_eq(f'{inspect.signature(a)!r}', '<Signature (x: float, /, y: NoneType, *args: int, z: int, t: str = 2, i=3, **kwargs: str)>')\n",
    "test_eq(a(1,2,3,4,z=5,v=6),\"x=1,y=2,args=(3, 4),z=5,t=2,kwargs={'i': 3, 'v': 6}\")"
   ]
  },
  {
   "cell_type": "code",
   "execution_count": null,
   "metadata": {},
   "outputs": [],
   "source": [
    "#exports\n",
    "def get_all_public_attr(o): 'Return all public field\\\\funcs'; return {k:getattr(o,k) for k in dir(o) if not k.startswith('_')}"
   ]
  },
  {
   "cell_type": "code",
   "execution_count": null,
   "metadata": {},
   "outputs": [],
   "source": [
    "class A:\n",
    "    def __init__(self):self.i,self._x,self.__x=1,2,3\n",
    "    def f(self): print('hey')\n",
    "    def _f(self):print('help')\n",
    "test_eq(get_all_public_attr(A()).keys(), ['f','i'])"
   ]
  },
  {
   "cell_type": "code",
   "execution_count": null,
   "metadata": {},
   "outputs": [],
   "source": [
    "#exports\n",
    "def pcolkw(f, *, use_locals=True, use_kwargs=True, use_globals=False):\n",
    "    '''Partial Collected kwargs: Call function with relevant arguments collected from frame above. (global->local->kwargs_outer->kwargs)'''\n",
    "    params = inspect.signature(f).parameters.values()\n",
    "    for p in params: \n",
    "        assert p.kind.name not in ['POSITIONAL_ONLY', 'VAR_POSITIONAL', 'VAR_KEYWORD'], f'Unsupported parameter in function: {p.name!r} is a {p.kind.name} parameter.'\n",
    "    params = L(params).map(lambda p: p.name)\n",
    "    \n",
    "    fr = sys._getframe(1)\n",
    "    \n",
    "    def filter_rel(d): return {k:v for k,v in d.items() if k in params}\n",
    "    globs  = filter_rel(fr.f_globals) if use_globals else {}\n",
    "    locls  = filter_rel(fr.f_locals)  if use_locals else {}\n",
    "    kwargs_outer = filter_rel(fr.f_locals['kwargs']) if use_kwargs and 'kwargs' in fr.f_locals.keys() else {}\n",
    "    \n",
    "    return partial(f, **{**globs, **locls, **kwargs_outer})"
   ]
  },
  {
   "cell_type": "code",
   "execution_count": null,
   "metadata": {},
   "outputs": [],
   "source": [
    "def f(x ,/, y, *args, ido, guy=1, **kw):pass\n",
    "def x(y, ido): pcolkw(f)()\n",
    "test_fail(lambda:x(1,2), contains=\"Unsupported parameter in function: 'x' is a POSITIONAL_ONLY parameter\")\n",
    "def f(y, *args, ido, guy=1, **kw):pass\n",
    "test_fail(lambda:x(1,2), contains=\"Unsupported parameter in function: 'args' is a VAR_POSITIONAL parameter\")\n",
    "def f(y, *, ido, guy=1, **kw):pass\n",
    "test_fail(lambda:x(1,2), contains=\"Unsupported parameter in function: 'kw' is a VAR_KEYWORD parameter\")"
   ]
  },
  {
   "cell_type": "code",
   "execution_count": null,
   "metadata": {},
   "outputs": [],
   "source": [
    "def f(y, *, ido, guy=1):return f'{y=},{ido=},{guy=}'\n",
    "def x(y, ido): return pcolkw(f)()\n",
    "test_eq(x(1,2), 'y=1,ido=2,guy=1')\n",
    "y=3\n",
    "def x(ido): return pcolkw(f)()\n",
    "test_fail(lambda:x(4), contains=\"f() missing 1 required positional argument: 'y'\")\n",
    "def x(ido): return pcolkw(f, use_globals=True)()\n",
    "test_eq(x(4), 'y=3,ido=4,guy=1')\n",
    "def x(ido, **kwargs): return pcolkw(f)()\n",
    "test_eq(x(4, y=6), 'y=6,ido=4,guy=1')\n",
    "def x(ido): return pcolkw(f)(5)\n",
    "test_eq(x(4), 'y=5,ido=4,guy=1')\n",
    "def x(ido): return pcolkw(f)(y=5)\n",
    "test_eq(x(4), 'y=5,ido=4,guy=1')"
   ]
  },
  {
   "cell_type": "code",
   "execution_count": null,
   "metadata": {},
   "outputs": [
    {
     "name": "stdout",
     "output_type": "stream",
     "text": [
      "Converted 00_functional.ipynb.\n",
      "Converted 01_tests.ipynb.\n",
      "Converted 02_tensor.ipynb.\n",
      "Converted 03_images.ipynb.\n",
      "Converted 04_random.ipynb.\n",
      "Converted 05_domainadaptation.ipynb.\n",
      "Converted 06_mlp.ipynb.\n",
      "Converted 07_download.ipynb.\n",
      "Converted 08_script.ipynb.\n",
      "Converted index.ipynb.\n"
     ]
    }
   ],
   "source": [
    "from nbdev.sync import notebook2script;notebook2script()"
   ]
  }
 ],
 "metadata": {
  "kernelspec": {
   "display_name": "Python 3",
   "language": "python",
   "name": "python3"
  }
 },
 "nbformat": 4,
 "nbformat_minor": 4
}
