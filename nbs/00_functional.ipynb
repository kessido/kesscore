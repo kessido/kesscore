{
 "cells": [
  {
   "cell_type": "code",
   "execution_count": null,
   "metadata": {},
   "outputs": [],
   "source": [
    "#default_exp functional"
   ]
  },
  {
   "cell_type": "code",
   "execution_count": null,
   "metadata": {},
   "outputs": [],
   "source": [
    "#exports\n",
    "from kesscore.imports import *\n",
    "from functools import wraps"
   ]
  },
  {
   "cell_type": "code",
   "execution_count": null,
   "metadata": {},
   "outputs": [],
   "source": [
    "#exports\n",
    "def zip_cycle_longest(*args):\n",
    "    \"Like `itertools.zip_longest` but `cycle`s through elements of all but longest argument\"\n",
    "    args = L(list(args)).map(list)\n",
    "    n    = args.map(len).reduce(max)\n",
    "    for i in range(n): yield tuple(a[i%len(a)] for a in args)"
   ]
  },
  {
   "cell_type": "code",
   "execution_count": null,
   "metadata": {},
   "outputs": [],
   "source": [
    "test_eq(list(zip_cycle_longest([1,2],[3,4,5])), [(1,3),(2,4),(1,5)])"
   ]
  },
  {
   "cell_type": "code",
   "execution_count": null,
   "metadata": {},
   "outputs": [],
   "source": [
    "#exports\n",
    "def _wrapify(f, t):\n",
    "    @wraps(f)\n",
    "    def _inner(*args,**kwargs): return t(f(*args,**kwargs))\n",
    "    return _inner\n",
    "_listify = partial(_wrapify, t=list)\n",
    "_Listify = partial(_wrapify, t=L)"
   ]
  },
  {
   "cell_type": "code",
   "execution_count": null,
   "metadata": {},
   "outputs": [],
   "source": [
    "#exports\n",
    "lmap = _listify(map)\n",
    "lzip = _listify(zip)\n",
    "lfilter = _listify(filter)\n",
    "lrange = _listify(range)\n",
    "Lmap = _Listify(map)\n",
    "Lzip = _Listify(zip)\n",
    "Lfilter = _Listify(filter)\n",
    "Lrange = _Listify(range)"
   ]
  },
  {
   "cell_type": "code",
   "execution_count": null,
   "metadata": {},
   "outputs": [],
   "source": [
    "test_eq_type(lmap(noop, [1,2,3]),          [1,2,3])\n",
    "test_eq_type(lzip([1,2],[3,4]),            [(1,3),(2,4)])\n",
    "test_eq_type(lfilter(ge(2), [1,2,3,4]),    [2,3,4])\n",
    "test_eq_type(lrange(3),                    [0,1,2])\n",
    "test_eq_type(Lmap(noop, [1,2,3]),          L([1,2,3]))\n",
    "test_eq_type(Lzip([1,2],[3,4]),            L([(1,3),(2,4)]))\n",
    "test_eq_type(Lfilter(ge(2), [1,2,3,4]),    L([2,3,4]))\n",
    "test_eq_type(Lrange(3),                    L([0,1,2]))"
   ]
  },
  {
   "cell_type": "code",
   "execution_count": null,
   "metadata": {},
   "outputs": [],
   "source": [
    "#exports\n",
    "def _all(self:L)->bool: return all(self)\n",
    "L.all = _all"
   ]
  },
  {
   "cell_type": "code",
   "execution_count": null,
   "metadata": {},
   "outputs": [],
   "source": [
    "assert not L([True, False, True] ).all()\n",
    "assert not L([True, True,  False]).all()\n",
    "assert     L([True, True,  True] ).all()"
   ]
  },
  {
   "cell_type": "code",
   "execution_count": null,
   "metadata": {},
   "outputs": [],
   "source": [
    "#exports\n",
    "@patch\n",
    "def all_eq(self:L)->bool: return all([self[i] == self[i-1] for i in range(1, len(self))])"
   ]
  },
  {
   "cell_type": "code",
   "execution_count": null,
   "metadata": {},
   "outputs": [],
   "source": [
    "assert L(1,1,1,1).all_eq()\n",
    "assert not L(1,10).all_eq()\n",
    "assert L(1, True).all_eq()"
   ]
  },
  {
   "cell_type": "code",
   "execution_count": null,
   "metadata": {},
   "outputs": [],
   "source": [
    "#exports\n",
    "_isinstance = isinstance\n",
    "def isinstance(obj, class_or_tuple=None):\n",
    "    'Like isinstance but support creating partial versions, e.g, isinstance(int)(1) is True.'\n",
    "    if class_or_tuple is None:\n",
    "        class_or_tuple = obj\n",
    "        def _inner(obj): \n",
    "            return _isinstance(obj, class_or_tuple)\n",
    "        _inner.__doc__ = f'Check if `obj` is of type\\\\s: {class_or_tuple}'\n",
    "        return _inner\n",
    "    return _isinstance(obj,class_or_tuple)"
   ]
  },
  {
   "cell_type": "code",
   "execution_count": null,
   "metadata": {},
   "outputs": [],
   "source": [
    "assert isinstance(obj=1, class_or_tuple=int)\n",
    "assert isinstance(int)(1)\n",
    "test_fail(lambda: isinstance(1)(int), contains='isinstance() arg 2 must be a type or tuple of types')\n",
    "assert isinstance(int)(1)\n",
    "assert all(map(isinstance((list, int)), [1, 2, 3, [1, 2, 3]]))\n",
    "assert not isinstance((list, int))((1, 2, 3))"
   ]
  },
  {
   "cell_type": "code",
   "execution_count": null,
   "metadata": {},
   "outputs": [],
   "source": [
    "#exports\n",
    "def compose_star(*funcs):\n",
    "    'like compose but pass *x to functions'\n",
    "    def _inner(*x):\n",
    "        for f in funcs: x = f(*x)\n",
    "        return x\n",
    "    return _inner"
   ]
  },
  {
   "cell_type": "code",
   "execution_count": null,
   "metadata": {},
   "outputs": [],
   "source": [
    "def x(a,b): return a-1,b+1\n",
    "test_eq(compose_star(x,x,x)(5,0), (2,3))"
   ]
  },
  {
   "cell_type": "code",
   "execution_count": null,
   "metadata": {},
   "outputs": [
    {
     "name": "stdout",
     "output_type": "stream",
     "text": [
      "Converted 00_functional.ipynb.\n",
      "Converted 01_tests.ipynb.\n",
      "Converted 02_images.ipynb.\n",
      "Converted 03_tensor.ipynb.\n",
      "Converted 04_random.ipynb.\n",
      "Converted 05_domainadaptation.ipynb.\n",
      "Converted 06_mlp.ipynb.\n",
      "Converted 07_download.ipynb.\n",
      "Converted index.ipynb.\n"
     ]
    }
   ],
   "source": [
    "from nbdev.sync import notebook2script;notebook2script()"
   ]
  }
 ],
 "metadata": {
  "kernelspec": {
   "display_name": "Python 3",
   "language": "python",
   "name": "python3"
  }
 },
 "nbformat": 4,
 "nbformat_minor": 4
}
