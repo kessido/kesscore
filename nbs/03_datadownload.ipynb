{
 "cells": [
  {
   "cell_type": "code",
   "execution_count": null,
   "metadata": {},
   "outputs": [],
   "source": [
    "#default_exp datadownload"
   ]
  },
  {
   "cell_type": "code",
   "execution_count": null,
   "metadata": {},
   "outputs": [],
   "source": [
    "#export\n",
    "from kesscore.imports import *\n",
    "import warnings"
   ]
  },
  {
   "cell_type": "code",
   "execution_count": null,
   "metadata": {},
   "outputs": [],
   "source": [
    "#export\n",
    "def untar_fdrive(fid, fname, destfold, extract_func=file_extract):\n",
    "    'download https://drive.google.com/uc?id={fid} to destfold/fname.tar.gz and extract it to destfold/fname. Will not download if folder exist.'\n",
    "    destfold=Path(destfold)\n",
    "    if (destfold/fname).exists():\n",
    "        warnings.warn('Folder already exist, so will not download again: ' + str(destfold/fname))\n",
    "    else:\n",
    "        import gdown\n",
    "        path=gdown.download(f'https://drive.google.com/uc?id={fid}', str(destfold/f'{name}.tar.gz'))\n",
    "        file_extract(path)\n",
    "        Path(path).unlink()\n",
    "    return destfold/fname"
   ]
  },
  {
   "cell_type": "code",
   "execution_count": null,
   "metadata": {},
   "outputs": [
    {
     "name": "stdout",
     "output_type": "stream",
     "text": [
      "Converted 00_functional.ipynb.\n",
      "Converted 01_images.ipynb.\n",
      "Converted 02_fastdl.ipynb.\n",
      "Converted 03_datadownload.ipynb.\n",
      "Converted index.ipynb.\n"
     ]
    }
   ],
   "source": [
    "from nbdev.sync import notebook2script\n",
    "notebook2script()"
   ]
  }
 ],
 "metadata": {
  "kernelspec": {
   "display_name": "Python 3",
   "language": "python",
   "name": "python3"
  }
 },
 "nbformat": 4,
 "nbformat_minor": 4
}
