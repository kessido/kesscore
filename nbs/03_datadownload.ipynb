{
 "cells": [
  {
   "cell_type": "code",
   "execution_count": null,
   "metadata": {},
   "outputs": [],
   "source": [
    "#default_exp datadownload"
   ]
  },
  {
   "cell_type": "code",
   "execution_count": null,
   "metadata": {},
   "outputs": [],
   "source": [
    "#export\n",
    "from kesscore.imports import *\n",
    "from functools import wraps\n",
    "import torchvision.datasets.utils as tvdu\n",
    "\n",
    "import tarfile,zipfile,warnings,subprocess"
   ]
  },
  {
   "cell_type": "code",
   "execution_count": null,
   "metadata": {},
   "outputs": [],
   "source": [
    "#export\n",
    "def try_extract(fname, dest=None):\n",
    "    \"Extract `fname` to `dest` using `tarfile` or `zipfile`.\"\n",
    "    if dest is None: dest = Path(fname).parent\n",
    "    try:    tarfile.open(fname, 'r:gz').extractall(dest); return\n",
    "    except: pass\n",
    "    try:    zipfile.ZipFile(fname     ).extractall(dest); return\n",
    "    except: pass\n",
    "    raise Exception(f'Unrecognized archive: {fname}')"
   ]
  },
  {
   "cell_type": "code",
   "execution_count": null,
   "metadata": {},
   "outputs": [],
   "source": [
    "# export\n",
    "def _untar_data(url, name, dest, d_func, ext_func=try_extract):\n",
    "    'Download to `dest/name.tar.gz` and extract to folder `dest/name`'\n",
    "    dest = Path(dest)\n",
    "    if (dest/name).exists(): warnings.warn('Folder already exist, so will not download again: ' + str(dest/name))\n",
    "    else:\n",
    "        fname = dest/f'{name}.tar.gz'\n",
    "        if fname.exists(): warnings.warn(f'File already exist, will use it as is. ({fname})\\n' +\n",
    "                                         'If you wish, you might delete the file and run the program again instead.')\n",
    "        else: d_func(url, fname)\n",
    "        ext_func(fname, dest=dest/name)\n",
    "        fname.unlink()\n",
    "    return dest/name"
   ]
  },
  {
   "cell_type": "code",
   "execution_count": null,
   "metadata": {},
   "outputs": [],
   "source": [
    "#export\n",
    "def _drive_dl(fid, fname):\n",
    "    tvdu.download_file_from_google_drive(file_id=fid, root=fname.parent, filename=fname.name)"
   ]
  },
  {
   "cell_type": "code",
   "execution_count": null,
   "metadata": {},
   "outputs": [],
   "source": [
    "#export\n",
    "@delegates(_untar_data)\n",
    "def untar_drive(fid, name, dest, **kwargs):\n",
    "    '''download https://drive.google.com/uc?id={fid} to `dest/name.tar.gz` and \n",
    "    extract it to `dest/name`. Will not download if folder exist.'''\n",
    "    return _untar_data(fid, name, dest, _drive_dl, **kwargs)"
   ]
  },
  {
   "cell_type": "code",
   "execution_count": null,
   "metadata": {},
   "outputs": [],
   "source": [
    "#export\n",
    "def _general_dl(url, fname):\n",
    "    tvdu.download_url(url=url, root=fname.parent, filename=fname.name)"
   ]
  },
  {
   "cell_type": "code",
   "execution_count": null,
   "metadata": {},
   "outputs": [],
   "source": [
    "#export\n",
    "def _wget_dl(url, fname):\n",
    "    command = ['wget',str(url),'-O',str(fname.absolute())]\n",
    "    print(\n",
    "f'''Running wget, this will not show any output and might take some time. \n",
    "If you wish, you can run it youself instead using the following command:\n",
    ">>> {\" \".join(command)}''')\n",
    "    subprocess.run(command, check=True)"
   ]
  },
  {
   "cell_type": "code",
   "execution_count": null,
   "metadata": {},
   "outputs": [],
   "source": [
    "#export \n",
    "@delegates(_untar_data)\n",
    "def untar_general(url, name, dest, **kwargs):\n",
    "    '''download `url` to `dest/name.tar.gz` using torchvision.datasets.utils.download_url\n",
    "    and extract it to `dest/name`. Will not download if folder exist.'''\n",
    "    return _untar_data(url, name, dest, _general_dl, **kwargs)\n",
    "\n",
    "@delegates(_untar_data)\n",
    "def untar_wget(url, name, dest, **kwargs):\n",
    "    '''download `url` to `dest/name.tar.gz` using wget and extract it to `dest/name`. Will not download if folder exist.'''\n",
    "    return _untar_data(url, name, dest, _wget_dl, **kwargs)\n",
    "\n",
    "@wraps(untar_wget)\n",
    "def untar_dropbox(url, name, dest, **kwargs):\n",
    "    assert url.endswith('dl=0') or url.endswith('dl=1'), 'dropbox links need to end with dl=0 (single file) or dl=1(folder)'\n",
    "    return untar_wget(url, name, dest, **kwargs)"
   ]
  },
  {
   "cell_type": "code",
   "execution_count": null,
   "metadata": {},
   "outputs": [
    {
     "name": "stdout",
     "output_type": "stream",
     "text": [
      "Converted 00_functional.ipynb.\n",
      "Converted 01_images.ipynb.\n",
      "Converted 02_fastdl.ipynb.\n",
      "Converted 03_datadownload.ipynb.\n",
      "Converted 04_random.ipynb.\n",
      "Converted 05_tensor.ipynb.\n",
      "Converted index.ipynb.\n"
     ]
    }
   ],
   "source": [
    "from nbdev.sync import notebook2script\n",
    "notebook2script()"
   ]
  }
 ],
 "metadata": {
  "kernelspec": {
   "display_name": "Python 3",
   "language": "python",
   "name": "python3"
  }
 },
 "nbformat": 4,
 "nbformat_minor": 4
}
