{
 "cells": [
  {
   "cell_type": "code",
   "execution_count": null,
   "metadata": {},
   "outputs": [],
   "source": [
    "#default_exp tensor"
   ]
  },
  {
   "cell_type": "code",
   "execution_count": null,
   "metadata": {},
   "outputs": [],
   "source": [
    "#export\n",
    "from kesscore.imports import *\n",
    "from functools import wraps"
   ]
  },
  {
   "cell_type": "code",
   "execution_count": null,
   "metadata": {},
   "outputs": [],
   "source": [
    "#export\n",
    "@patch(as_prop=True)\n",
    "def lshape(self:Tensor): 'Like Tensor.shape but return a list'; return [*self.shape]"
   ]
  },
  {
   "cell_type": "code",
   "execution_count": null,
   "metadata": {},
   "outputs": [],
   "source": [
    "test_eq_type(torch.zeros(10,10).lshape, [10,10])"
   ]
  },
  {
   "cell_type": "code",
   "execution_count": null,
   "metadata": {},
   "outputs": [],
   "source": [
    "#export\n",
    "@patch\n",
    "def shape_is(self:Tensor,*size): return list(self.lshape)==list(size)"
   ]
  },
  {
   "cell_type": "code",
   "execution_count": null,
   "metadata": {},
   "outputs": [],
   "source": [
    "assert torch.zeros(10,10).shape_is(10,10)\n",
    "assert not torch.zeros(10,10).shape_is(10,5)\n",
    "assert not torch.zeros(10,10).shape_is(10,10,10)"
   ]
  },
  {
   "cell_type": "code",
   "execution_count": null,
   "metadata": {},
   "outputs": [],
   "source": [
    "#export\n",
    "@patch\n",
    "def assert_shape(self:Tensor,*size): \n",
    "    'Assert the tensor shape and produce a meaningfull assertion message in case it fails'\n",
    "    assert self.shape_is(*size), f'Expected tensor of shape {(*size,)} but got tensor of shape {(*self.shape,)}'\n",
    "    return self"
   ]
  },
  {
   "cell_type": "code",
   "execution_count": null,
   "metadata": {},
   "outputs": [],
   "source": [
    "test_fail(lambda:torch.zeros(10,10).assert_shape(100,5), contains='Expected tensor of shape (100, 5) but got tensor of shape (10, 10)')\n",
    "test_eq_type(torch.zeros(2,2).assert_shape(2,2), torch.zeros(2,2))"
   ]
  },
  {
   "cell_type": "code",
   "execution_count": null,
   "metadata": {},
   "outputs": [],
   "source": [
    "from nbdev.sync import notebook2script"
   ]
  },
  {
   "cell_type": "code",
   "execution_count": null,
   "metadata": {},
   "outputs": [
    {
     "name": "stdout",
     "output_type": "stream",
     "text": [
      "Converted 00_functional.ipynb.\n",
      "Converted 01_images.ipynb.\n",
      "Converted 02_download.ipynb.\n",
      "Converted 03_tensor.ipynb.\n",
      "Converted 04_random.ipynb.\n",
      "Converted index.ipynb.\n"
     ]
    }
   ],
   "source": [
    "notebook2script()"
   ]
  }
 ],
 "metadata": {
  "kernelspec": {
   "display_name": "Python 3",
   "language": "python",
   "name": "python3"
  }
 },
 "nbformat": 4,
 "nbformat_minor": 4
}
