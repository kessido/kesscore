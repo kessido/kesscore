{
 "cells": [
  {
   "cell_type": "code",
   "execution_count": null,
   "metadata": {},
   "outputs": [],
   "source": [
    "#default_exp download"
   ]
  },
  {
   "cell_type": "code",
   "execution_count": null,
   "metadata": {},
   "outputs": [],
   "source": [
    "#export\n",
    "from kesscore.base import *\n",
    "from functools import wraps\n",
    "import torchvision.datasets.utils as tvdu\n",
    "\n",
    "import tarfile,zipfile,warnings,subprocess"
   ]
  },
  {
   "cell_type": "code",
   "execution_count": null,
   "metadata": {},
   "outputs": [],
   "source": [
    "#export\n",
    "def try_extract(fname, dest):\n",
    "    \"Extract `fname` to folder `dest` using `tarfile` or `zipfile`.\"\n",
    "    try:    tarfile.open(fname, 'r:gz').extractall(dest); return\n",
    "    except: pass\n",
    "    try:    zipfile.ZipFile(fname     ).extractall(dest); return\n",
    "    except: pass\n",
    "    raise Exception(f'Unrecognized archive: {fname}')"
   ]
  },
  {
   "cell_type": "code",
   "execution_count": null,
   "metadata": {},
   "outputs": [],
   "source": [
    "# export\n",
    "def _untar_data(url, name, dest, download_func, extract_func=try_extract):\n",
    "    'Download to `dest/name.tar.gz` and extract to folder `dest/name` and deletes it'\n",
    "    fname   = Path(dest)/f'{name}.tar.gz'\n",
    "    destext = Path(dest)/name\n",
    "    if destext.exists(): warnings.warn(f'Folder already exist, so will not download again: {destext}')\n",
    "    else:\n",
    "        if fname.exists(): warnings.warn(f'File already exist, will use it as is. ({fname})\\n' +\n",
    "                                         'If you wish, you might delete the file and run the program again instead.')\n",
    "        else: download_func(url, fname)\n",
    "        extract_func(fname, dest=destext)\n",
    "        fname.unlink()\n",
    "    return destext"
   ]
  },
  {
   "cell_type": "code",
   "execution_count": null,
   "metadata": {},
   "outputs": [],
   "source": [
    "#export\n",
    "def _split2dirfile(path):\n",
    "    spath,ppath = str(path),Path(path)\n",
    "    if spath[-1:] in '\\\\/' or ppath.is_dir(): return ppath,None\n",
    "    return ppath.parent,ppath.name"
   ]
  },
  {
   "cell_type": "code",
   "execution_count": null,
   "metadata": {},
   "outputs": [],
   "source": [
    "#export\n",
    "def download_drive(fid, fname):\n",
    "    root,filename = _split2dirfile(fname)\n",
    "    return tvdu.download_file_from_google_drive(file_id=fid, root=root, filename=filename)\n",
    "\n",
    "def download_general(url, fname):\n",
    "    'download using torchvision.datasets.utils.download_url.'\n",
    "    root,filename = _split2dirfile(fname)\n",
    "    return tvdu.download_url(url=url, root=root, filename=filename)\n",
    "\n",
    "def download_wget(url, fname):\n",
    "    'download file using wget as a subprocess'\n",
    "    command = ['wget',str(url),'-O',str(fname.absolute())]\n",
    "    print(\n",
    "f'''Running wget, this will not show any output and might take some time. \n",
    "If you wish, you can run it youself instead using the following command:\n",
    ">>> {\" \".join(command)}''')\n",
    "    return subprocess.run(command, check=True)"
   ]
  },
  {
   "cell_type": "code",
   "execution_count": null,
   "metadata": {},
   "outputs": [],
   "source": [
    "#export\n",
    "@delegates(_untar_data)\n",
    "def untar_drive(fid, name, dest, **kwargs):\n",
    "    '''download https://drive.google.com/uc?id={fid} to `dest/name.tar.gz` and \n",
    "    extract it to `dest/name`. Will not download if folder exist.'''\n",
    "    return _untar_data(fid, name, dest, download_drive, **kwargs)\n",
    "\n",
    "@delegates(_untar_data)\n",
    "def untar_general(url, name, dest, **kwargs):\n",
    "    '''download `url` to `dest/name.tar.gz` using torchvision.datasets.utils.download_url\n",
    "    and extract it to `dest/name`. Will not download if folder exist.'''\n",
    "    return _untar_data(url, name, dest, download_general, **kwargs)\n",
    "\n",
    "@delegates(_untar_data)\n",
    "def untar_wget(url, name, dest, **kwargs):\n",
    "    '''download `url` to `dest/name.tar.gz` using wget and extract it to `dest/name`. Will not download if folder exist.'''\n",
    "    return _untar_data(url, name, dest, download_wget, **kwargs)\n",
    "\n",
    "@wraps(untar_wget)\n",
    "def untar_dropbox(url, name, dest, **kwargs):\n",
    "    assert url.endswith('dl=0') or url.endswith('dl=1'), 'dropbox links need to end with dl=0 (single file) or dl=1(folder)'\n",
    "    return untar_wget(url, name, dest, **kwargs)"
   ]
  },
  {
   "cell_type": "code",
   "execution_count": null,
   "metadata": {},
   "outputs": [
    {
     "name": "stdout",
     "output_type": "stream",
     "text": [
      "Converted 00_functional.ipynb.\n",
      "Converted 01_tests.ipynb.\n",
      "Converted 02_tensor.ipynb.\n",
      "Converted 03_images.ipynb.\n",
      "Converted 04_random.ipynb.\n",
      "Converted 05_domainadaptation.ipynb.\n",
      "Converted 06_mlp.ipynb.\n",
      "Converted 07_download.ipynb.\n",
      "Converted index.ipynb.\n"
     ]
    }
   ],
   "source": [
    "from nbdev.sync import notebook2script; notebook2script()"
   ]
  }
 ],
 "metadata": {
  "kernelspec": {
   "display_name": "Python 3",
   "language": "python",
   "name": "python3"
  }
 },
 "nbformat": 4,
 "nbformat_minor": 4
}
