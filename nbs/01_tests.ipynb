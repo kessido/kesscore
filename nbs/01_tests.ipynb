{
 "cells": [
  {
   "cell_type": "code",
   "execution_count": null,
   "metadata": {},
   "outputs": [],
   "source": [
    "#default_exp tests"
   ]
  },
  {
   "cell_type": "code",
   "execution_count": null,
   "metadata": {},
   "outputs": [],
   "source": [
    "#exports\n",
    "from kesscore.imports import *\n",
    "from kesscore.functional import *\n",
    "import types"
   ]
  },
  {
   "cell_type": "code",
   "execution_count": null,
   "metadata": {},
   "outputs": [],
   "source": [
    "#exports\n",
    "def is_not_close(a,b,eps=1e-5):\n",
    "    \"Is `a` not within `eps` of `b`\"\n",
    "    return not is_close(a,b,eps)\n",
    "def test_not_close(a,b,eps=1e-5):\n",
    "    \"`test` that `a` is not within `eps` of `b`\"\n",
    "    test(a,b,partial(is_not_close,eps=eps),f'close [{eps=}]')"
   ]
  },
  {
   "cell_type": "code",
   "execution_count": null,
   "metadata": {},
   "outputs": [],
   "source": [
    "test_not_close([1,2],[1.1,2.1])\n",
    "test_fail(lambda:test_not_close([1,2],[1.1,2.1], 0.5), contains='close [eps=0.5]:\\n[1, 2]\\n[1.1, 2.1]')"
   ]
  },
  {
   "cell_type": "code",
   "execution_count": null,
   "metadata": {},
   "outputs": [],
   "source": [
    "#exporti\n",
    "@patch\n",
    "def assert_all_eq(self:L)->bool: assert self.all_eq(), f'Not all elements are equal. {self.unique()=}. ({coll_repr(self)})'"
   ]
  },
  {
   "cell_type": "code",
   "execution_count": null,
   "metadata": {},
   "outputs": [],
   "source": [
    "#exports\n",
    "def test_all_eq(*args, map=noop): L(list(args)).map(map).assert_all_eq()"
   ]
  },
  {
   "cell_type": "code",
   "execution_count": null,
   "metadata": {},
   "outputs": [],
   "source": [
    "import decimal\n",
    "test_fail(lambda:test_all_eq(1,2,3), contains='Not all elements are equal. self.unique()=[1, 2, 3]')\n",
    "test_all_eq(1,True,1.0,decimal.Decimal('1.00000000'))\n",
    "test_all_eq(3,4,5,map=lambda x: x//6)"
   ]
  },
  {
   "cell_type": "code",
   "execution_count": null,
   "metadata": {},
   "outputs": [],
   "source": [
    "#exports\n",
    "def test_all(*args, checker=noop)->bool:\n",
    "    for i,v in enumerate(args): assert checker(v), f'Not all element have evaluated as True. (e.g, element {i} = {v})'"
   ]
  },
  {
   "cell_type": "code",
   "execution_count": null,
   "metadata": {},
   "outputs": [],
   "source": [
    "test_all(True, True, 1)\n",
    "test_fail(lambda:test_all(1,0,1,checker=lambda x: x+2 == 3), contains='Not all element have evaluated as True. (e.g, element 1 = 0)')"
   ]
  },
  {
   "cell_type": "code",
   "execution_count": null,
   "metadata": {},
   "outputs": [],
   "source": [
    "#exporti\n",
    "_test_eq = test_eq\n",
    "def list_test_eq(a, b):\n",
    "    a,b = mapped(L, [a,b])\n",
    "    assert len(a) == len(b), f'List lengths are not equal. {len(a)=}, {len(b)=}'\n",
    "    for i in range(len(a)): assert equals(a[i], b[i]), f'element {i=} is not equal in lists. {a[i]=}, {b[i]=}.\\na = {coll_repr(a)}\\nb = {coll_repr(b)}'"
   ]
  },
  {
   "cell_type": "code",
   "execution_count": null,
   "metadata": {},
   "outputs": [],
   "source": [
    "#exports\n",
    "def test_eq(a, b):\n",
    "    if mapped(isinstance((L, range, tuple, list, types.GeneratorType, Iterator)), [a,b]).all():\n",
    "        return list_test_eq(a,b)\n",
    "    return _test_eq(a,b)"
   ]
  },
  {
   "cell_type": "code",
   "execution_count": null,
   "metadata": {},
   "outputs": [],
   "source": [
    "test_fail(lambda:test_eq([1,2,3], [1,2,3,4]), contains='List lengths are not equal. len(a)=3, len(b)=4')\n",
    "test_fail(lambda:test_eq([1,2,3], [1,3,2]),   contains='element i=1 is not equal in lists. a[i]=2, b[i]=3')\n",
    "test_eq((1,2,3),[1,2,3])\n",
    "test_fail(lambda:test_eq((0,1,3), range(3)), 'element i=2 is not equal in lists. a[i]=3, b[i]=2')"
   ]
  },
  {
   "cell_type": "code",
   "execution_count": null,
   "metadata": {},
   "outputs": [],
   "source": [
    "#exports\n",
    "def test_type(obj, class_or_tuple):\n",
    "    '''assert `obj` is of type `class_or_tuple`, and o.w raise informative assert message.'''\n",
    "    assert isinstance(obj, class_or_tuple), f'got instance of type {type(obj).__name__!r}, but expected {mapped(lambda x: x.__name__, class_or_tuple)!r}'"
   ]
  },
  {
   "cell_type": "code",
   "execution_count": null,
   "metadata": {},
   "outputs": [],
   "source": [
    "test_fail(lambda:test_type(1, list), contains=\"got instance of type 'int', but expected 'list'\")\n",
    "test_fail(lambda:test_type(1, (list, tuple)), contains=\"got instance of type 'int', but expected ['list', 'tuple']\")"
   ]
  },
  {
   "cell_type": "code",
   "execution_count": null,
   "metadata": {},
   "outputs": [
    {
     "name": "stdout",
     "output_type": "stream",
     "text": [
      "Converted 00_functional.ipynb.\n",
      "Converted 01_tests.ipynb.\n",
      "Converted 02_tensor.ipynb.\n",
      "Converted 03_images.ipynb.\n",
      "Converted 04_random.ipynb.\n",
      "Converted 05_domainadaptation.ipynb.\n",
      "Converted 06_mlp.ipynb.\n",
      "Converted 07_download.ipynb.\n",
      "Converted index.ipynb.\n"
     ]
    }
   ],
   "source": [
    "from nbdev.sync import notebook2script;notebook2script()"
   ]
  }
 ],
 "metadata": {
  "kernelspec": {
   "display_name": "Python [conda env:fastai] *",
   "language": "python",
   "name": "conda-env-fastai-py"
  }
 },
 "nbformat": 4,
 "nbformat_minor": 4
}
