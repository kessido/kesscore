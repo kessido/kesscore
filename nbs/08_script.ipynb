{
 "cells": [
  {
   "cell_type": "code",
   "execution_count": null,
   "metadata": {},
   "outputs": [],
   "source": [
    "#default_exp script"
   ]
  },
  {
   "cell_type": "code",
   "execution_count": null,
   "metadata": {},
   "outputs": [],
   "source": [
    "#exports\n",
    "from kesscore.base import *"
   ]
  },
  {
   "cell_type": "code",
   "execution_count": null,
   "metadata": {},
   "outputs": [],
   "source": [
    "#exporti\n",
    "test_eq(f'{Param.__repr__!r}', \"<slot wrapper '__repr__' of 'object' objects>\")\n",
    "#reason for need"
   ]
  },
  {
   "cell_type": "code",
   "execution_count": null,
   "metadata": {},
   "outputs": [],
   "source": [
    "#exporti\n",
    "def ParamRepr(self:Param):\n",
    "    fields = get_all_public_attr(self)\n",
    "    optstr = [f'{k}={v!r}'for k,v in fields.items() if v is not None \n",
    "              and k not in ['type', 'set_default', 'kwargs']]\n",
    "    if fields['type'] is not None:\n",
    "        t = fields['type']\n",
    "        if isinstance(t, type): s = f'type={t.__name__}'\n",
    "        else: s = f'type=({\", \".join((L(t).map(lambda x:x.__name__)))})'\n",
    "        optstr = [s] + optstr\n",
    "    return f'Param({\", \".join(optstr)})'\n",
    "Param.__repr__ = ParamRepr"
   ]
  },
  {
   "cell_type": "code",
   "execution_count": null,
   "metadata": {},
   "outputs": [],
   "source": [
    "test_eq(f'{Param(help=\"Heyyyyyy\", type=int)!r}', \"Param(type=int, help='Heyyyyyy', opt=True, pre='--')\")\n",
    "test_eq(f'{Param(help=\"Heyyyyyy\", type=(int,float))!r}', \"Param(type=(int, float), help='Heyyyyyy', opt=True, pre='--')\")"
   ]
  },
  {
   "cell_type": "code",
   "execution_count": null,
   "metadata": {},
   "outputs": [
    {
     "name": "stdout",
     "output_type": "stream",
     "text": [
      "Converted 00_functional.ipynb.\n",
      "Converted 01_tests.ipynb.\n",
      "Converted 02_tensor.ipynb.\n",
      "Converted 03_images.ipynb.\n",
      "Converted 04_random.ipynb.\n",
      "Converted 05_domainadaptation.ipynb.\n",
      "Converted 06_mlp.ipynb.\n",
      "Converted 07_download.ipynb.\n",
      "Converted 08_script.ipynb.\n",
      "Converted index.ipynb.\n"
     ]
    }
   ],
   "source": [
    "from nbdev.sync import notebook2script; notebook2script()"
   ]
  }
 ],
 "metadata": {
  "kernelspec": {
   "display_name": "Python [conda env:fastai] *",
   "language": "python",
   "name": "conda-env-fastai-py"
  }
 },
 "nbformat": 4,
 "nbformat_minor": 4
}
