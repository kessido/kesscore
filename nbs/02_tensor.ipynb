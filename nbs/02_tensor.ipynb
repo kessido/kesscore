{
 "cells": [
  {
   "cell_type": "code",
   "execution_count": null,
   "metadata": {},
   "outputs": [],
   "source": [
    "#default_exp tensor"
   ]
  },
  {
   "cell_type": "code",
   "execution_count": null,
   "metadata": {},
   "outputs": [],
   "source": [
    "#exports\n",
    "from kesscore.imports import *\n",
    "from kesscore.functional import *\n",
    "from kesscore.tests import *\n",
    "from functools import wraps"
   ]
  },
  {
   "cell_type": "code",
   "execution_count": null,
   "metadata": {},
   "outputs": [],
   "source": [
    "#exports\n",
    "@patch(as_prop=True)\n",
    "def lshape(self:Tensor): 'Like Tensor.shape but return a list'; return [*self.shape]"
   ]
  },
  {
   "cell_type": "code",
   "execution_count": null,
   "metadata": {},
   "outputs": [],
   "source": [
    "test_eq_type(torch.zeros(10,10).lshape, [10,10])"
   ]
  },
  {
   "cell_type": "code",
   "execution_count": null,
   "metadata": {},
   "outputs": [],
   "source": [
    "#exports\n",
    "@patch\n",
    "def shape_is(self:Tensor,*size): return list(self.lshape)==list(size)"
   ]
  },
  {
   "cell_type": "code",
   "execution_count": null,
   "metadata": {},
   "outputs": [],
   "source": [
    "assert torch.zeros(10,10).shape_is(10,10)\n",
    "assert not torch.zeros(10,10).shape_is(10,5)\n",
    "assert not torch.zeros(10,10).shape_is(10,10,10)"
   ]
  },
  {
   "cell_type": "code",
   "execution_count": null,
   "metadata": {},
   "outputs": [],
   "source": [
    "@patch\n",
    "def assert_shape(self:Tensor,*size):\n",
    "    'Assert the tensor shape and produce a meaningfull assertion message in case it fails'\n",
    "    assert self.shape_is(*size), f'Expected tensor of shape {(*size,)} but got tensor of shape {(*self.shape,)}'\n",
    "    return self"
   ]
  },
  {
   "cell_type": "code",
   "execution_count": null,
   "metadata": {},
   "outputs": [],
   "source": [
    "test_eq(torch.zeros(10,20).assert_shape(10,20), torch.zeros(10,20))\n",
    "test_fail(lambda: torch.zeros(10,20).assert_shape(10,30), \n",
    "          contains='Expected tensor of shape (10, 30) but got tensor of shape (10, 20)')"
   ]
  },
  {
   "cell_type": "code",
   "execution_count": null,
   "metadata": {},
   "outputs": [],
   "source": [
    "#exports\n",
    "def interleaved(*args, dim):\n",
    "    '''Given `args`, all with same shapes, return them concatenated on `dim`, but interleaved'''\n",
    "    assert len(args) != 0\n",
    "    if len(args) == 1: return args[0]\n",
    "    test_all(*args, checker=isinstance(Tensor))\n",
    "    test_all_eq(*args, map=Self.size())\n",
    "    \n",
    "    shape = args[0].lshape\n",
    "    shape[dim] *= len(args)\n",
    "    \n",
    "    args = mapped(Self.unsqueeze(dim+1), args)\n",
    "    x = torch.cat(tuple(args), dim=dim+1)\n",
    "    return x.view(*shape)    "
   ]
  },
  {
   "cell_type": "code",
   "execution_count": null,
   "metadata": {},
   "outputs": [],
   "source": [
    "test_eq_type(interleaved(*L([[1, 2]],[[3, 4]],[[5, 6]]).tensored(), dim=1), torch.tensor([[1,3,5,2,4,6]]))\n",
    "test_eq_type(interleaved(*L([[1, 2]],[[3, 4]],[[5, 6]]).tensored(), dim=0), torch.tensor([[1,2],[3,4],[5,6]]))"
   ]
  },
  {
   "cell_type": "code",
   "execution_count": null,
   "metadata": {},
   "outputs": [
    {
     "name": "stdout",
     "output_type": "stream",
     "text": [
      "Converted 00_functional.ipynb.\n",
      "Converted 01_tests.ipynb.\n",
      "Converted 02_tensor.ipynb.\n",
      "Converted 03_images.ipynb.\n",
      "Converted 04_random.ipynb.\n",
      "Converted 05_domainadaptation.ipynb.\n",
      "Converted 06_mlp.ipynb.\n",
      "Converted 07_download.ipynb.\n",
      "Converted index.ipynb.\n"
     ]
    }
   ],
   "source": [
    "from nbdev.sync import notebook2script;notebook2script()"
   ]
  }
 ],
 "metadata": {
  "kernelspec": {
   "display_name": "Python 3",
   "language": "python",
   "name": "python3"
  }
 },
 "nbformat": 4,
 "nbformat_minor": 4
}
