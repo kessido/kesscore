{
 "cells": [
  {
   "cell_type": "code",
   "execution_count": null,
   "metadata": {},
   "outputs": [],
   "source": [
    "#default_exp tests"
   ]
  },
  {
   "cell_type": "code",
   "execution_count": null,
   "metadata": {},
   "outputs": [],
   "source": [
    "#exports\n",
    "from kesscore.imports import *"
   ]
  },
  {
   "cell_type": "code",
   "execution_count": null,
   "metadata": {},
   "outputs": [],
   "source": [
    "#exports\n",
    "def is_not_close(a,b,eps=1e-5):\n",
    "    \"Is `a` not within `eps` of `b`\"\n",
    "    return not is_close(a,b,eps)\n",
    "def test_not_close(a,b,eps=1e-5):\n",
    "    \"`test` that `a` is not within `eps` of `b`\"\n",
    "    test(a,b,partial(is_not_close,eps=eps),f'close [{eps=}]')"
   ]
  },
  {
   "cell_type": "code",
   "execution_count": null,
   "metadata": {},
   "outputs": [],
   "source": [
    "test_not_close([1,2],[1.1,2.1])\n",
    "test_fail(lambda:test_not_close([1,2],[1.1,2.1], 0.5), contains='close [eps=0.5]:\\n[1, 2]\\n[1.1, 2.1]')"
   ]
  },
  {
   "cell_type": "code",
   "execution_count": null,
   "metadata": {},
   "outputs": [],
   "source": [
    "from nbdev.sync import notebook2script"
   ]
  },
  {
   "cell_type": "code",
   "execution_count": null,
   "metadata": {},
   "outputs": [
    {
     "name": "stdout",
     "output_type": "stream",
     "text": [
      "Converted 00_functional.ipynb.\n",
      "Converted 01_images.ipynb.\n",
      "Converted 02_download.ipynb.\n",
      "Converted 03_tensor.ipynb.\n",
      "Converted 04_random.ipynb.\n",
      "Converted 05_domainadaptation.ipynb.\n",
      "Converted 06_mlp.ipynb.\n",
      "Converted 07_tests.ipynb.\n",
      "Converted index.ipynb.\n"
     ]
    }
   ],
   "source": [
    "notebook2script()"
   ]
  }
 ],
 "metadata": {
  "kernelspec": {
   "display_name": "Python [conda env:fastai] *",
   "language": "python",
   "name": "conda-env-fastai-py"
  }
 },
 "nbformat": 4,
 "nbformat_minor": 4
}
