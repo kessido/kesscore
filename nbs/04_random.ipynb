{
 "cells": [
  {
   "cell_type": "code",
   "execution_count": null,
   "metadata": {},
   "outputs": [],
   "source": [
    "#default_exp random"
   ]
  },
  {
   "cell_type": "code",
   "execution_count": null,
   "metadata": {},
   "outputs": [],
   "source": [
    "#export \n",
    "from kesscore.imports import *"
   ]
  },
  {
   "cell_type": "code",
   "execution_count": null,
   "metadata": {},
   "outputs": [],
   "source": [
    "#export\n",
    "def _rangechoice(nprs,len,size,replace,cum_weights,p):\n",
    "    size,pyrs = ifnone(size,1),random.Random(nprs.random())\n",
    "    if replace:\n",
    "        assert p is None,'Should use cum_weights'\n",
    "        if cum_weights is None: return nprs.randint(len,size=size)\n",
    "        else:                 return pyrs.choices(range(len),k=size,cum_weights=cum_weights) \n",
    "                                     # ^ here can also provide weight=p but performencewise not.\n",
    "    else:\n",
    "        assert cum_weights is None,'Should use p'\n",
    "        if p is None: return pyrs.sample(range(len),size)\n",
    "        else:         return nprs.choice(np.arange(len),size=size,replace=False,p=p)\n",
    "    \n",
    "def _choice(nprs,a,size=None,replace=True,cum_weights=None,p=None):\n",
    "    if isinstance(a,(dict, range)): a=list(a)\n",
    "    if isinstance(a,(tuple,list )): a=L(a)\n",
    "    assert isinstance(a, (L,np.ndarray,torch.Tensor))\n",
    "    idx = _rangechoice(nprs, len=len(a),size=size,replace=replace,cum_weights=cum_weights,p=p)\n",
    "    if size == None: idx=idx[0] # instead or returning something like a[[1]] will rerturn a[1]\n",
    "    return a[idx]"
   ]
  },
  {
   "cell_type": "code",
   "execution_count": null,
   "metadata": {},
   "outputs": [],
   "source": [
    "def testc(sz,rp,cw=None,p=None): return _choice(np.random.RandomState(10),[1,2,3,5,6,7],sz,rp,cw,p)\n",
    "test_eq_type(testc(None,False),2)\n",
    "test_eq_type(testc(None,True),6)\n",
    "test_eq_type(testc(1,True),L([6]))\n",
    "test_eq_type(testc(10,True), L([6, 1, 2, 5, 6, 2, 7, 1, 7, 2]))\n",
    "test_eq_type(testc(6,False), L([2, 6, 3, 7, 5, 1]))\n",
    "test_fail(lambda:testc(7,False),contains='Sample larger than population or is negative')\n",
    "\n",
    "a = np.random.RandomState(10).randn(10,3)\n",
    "def testa(sz,rp,cw=None,p=None): return _choice(np.random.RandomState(10),a,sz,rp,cw,p)\n",
    "test_eq_type(testa(None,True), a[4])\n",
    "test_eq_type(testa(1,True), a[[4]])\n",
    "testa(3,True,cw=[0.1] + [0.0]*9)\n",
    "p = (np.arange(10)+1)**3 \n",
    "p = p.astype(np.float64)  / p.sum()\n",
    "pcum = p.cumsum()\n",
    "test_eq_type(testa(3, True), a[[4,0,1]])\n",
    "test_eq_type(testa(3, True, cw=pcum), a[[-1,-1,-1]])\n",
    "test_eq_type(testa(3, False, p=p), a[[3,8,9]])"
   ]
  },
  {
   "cell_type": "code",
   "execution_count": null,
   "metadata": {},
   "outputs": [],
   "source": [
    "#export\n",
    "@docs\n",
    "class RandomState:\n",
    "    def __init__(self, seed=None): self.rs=np.random.RandomState(seed=seed)\n",
    "    def choice(self,a,size=None,cum_weights=None): return _choice(self.rs,a,size=size,replace=True, cum_weights=cum_weights)\n",
    "    def sample(self,a,size=None,cum_weights=None): return _choice(self.rs,a,size=size,replace=False,cum_weights=cum_weights)\n",
    "    def randn(self,size=None):return self.rs.randn(*size)\n",
    "    def rand(self,size=None): return self.rs.random(size=size)\n",
    "    def bool(self,size=None,p=0.5): return self.rand(size) < p\n",
    "    def int(self,low,high=None,size=None,dtype=int): return self.rs.randint(low=low,high=high,size=size,dtype=dtype)\n",
    "    _docs = dict(\n",
    "        cls_doc = \"The class docstring\",\n",
    "        choice  = 'Get sample with replacements',\n",
    "        sample  = 'Get sample w.o  replacements',\n",
    "        randn   = 'Return floats in [0, 1)',\n",
    "        rand    = 'Return floats from normal distribution N(0,1)',\n",
    "        bool    = 'Return True with probability p',\n",
    "        int     = 'Return int(ndarray) with in [low, high) ([0, low))',\n",
    "    )"
   ]
  },
  {
   "cell_type": "code",
   "execution_count": null,
   "metadata": {},
   "outputs": [],
   "source": [
    "test_eq(RandomState(10).bool(size=10), [False,True,False,False,True,True,True,False,True,True])\n",
    "test_eq_type(RandomState(10).bool(), False)\n",
    "test_eq_type(RandomState(10).bool(p=0.9), True)\n",
    "test_eq_type(RandomState(10).bool(p=0.1), False)\n",
    "test_eq(RandomState(10).choice([1,2,3]), 1)\n",
    "test_eq(RandomState(10).choice({1:2, 3:4}, 3), [1, 3, 1])\n",
    "test_eq(RandomState(10).sample({1:2, 3:4}, 2), [1,3])\n",
    "test_fail(lambda: RandomState(10).sample([1,2], 3), contains='Sample larger than population or is negative')\n",
    "test_eq(np.round(RandomState(10).rand(3), 3), [0.771, 0.021, 0.634])\n",
    "test_eq(RandomState(10).int(9,size=4), [4, 0, 1, 0])\n",
    "\n",
    "test_eq(RandomState(10).int(9,size=1000).max(), 8)\n",
    "test_eq(RandomState(10).int(9,size=1000).min(), 0)\n",
    "\n",
    "test_eq(RandomState(10).int(1, 9,size=1000).max(), 8)\n",
    "test_eq(RandomState(10).int(1, 9,size=1000).min(), 1)"
   ]
  },
  {
   "cell_type": "code",
   "execution_count": null,
   "metadata": {},
   "outputs": [],
   "source": [
    "from nbdev.sync import notebook2script"
   ]
  },
  {
   "cell_type": "code",
   "execution_count": null,
   "metadata": {},
   "outputs": [
    {
     "name": "stdout",
     "output_type": "stream",
     "text": [
      "Converted 00_functional.ipynb.\n",
      "Converted 01_images.ipynb.\n",
      "Converted 02_fastdl.ipynb.\n",
      "Converted 03_datadownload.ipynb.\n",
      "Converted 04_random.ipynb.\n",
      "Converted index.ipynb.\n"
     ]
    }
   ],
   "source": [
    "notebook2script()"
   ]
  }
 ],
 "metadata": {
  "kernelspec": {
   "display_name": "Python 3",
   "language": "python",
   "name": "python3"
  }
 },
 "nbformat": 4,
 "nbformat_minor": 4
}
