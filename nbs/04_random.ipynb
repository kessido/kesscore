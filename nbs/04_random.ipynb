{
 "cells": [
  {
   "cell_type": "code",
   "execution_count": null,
   "metadata": {},
   "outputs": [],
   "source": [
    "#default_exp random"
   ]
  },
  {
   "cell_type": "code",
   "execution_count": null,
   "metadata": {},
   "outputs": [],
   "source": [
    "#export \n",
    "from kesscore.imports import *\n",
    "from kesscore.functional import *"
   ]
  },
  {
   "cell_type": "code",
   "execution_count": null,
   "metadata": {},
   "outputs": [],
   "source": [
    "#export\n",
    "def _rangechoice(len,size=None,nprs=None,replace=None,cum_weights=None,p=None):\n",
    "    k,pyrs = ifnone(size,1),random.Random(nprs.random())\n",
    "    if replace:\n",
    "        assert p is None,'Should use cum_weights'\n",
    "        if cum_weights is None: idx = nprs.randint(len,size=k)\n",
    "        else:                   idx = pyrs.choices(range(len),k=k,cum_weights=cum_weights) \n",
    "                                     # ^ here can also provide weight=p but performencewise not.\n",
    "    else:\n",
    "        assert cum_weights is None,'Should use p'\n",
    "        if p is None: idx = pyrs.sample(range(len),k)\n",
    "        else:         idx = nprs.choice(np.arange(len),size=k,replace=False,p=p)\n",
    "    return idx[0] if size == None else idx\n",
    "        \n",
    "@delegates(_rangechoice, but=['len'])\n",
    "def _customrangechoice(rng,**kwargs):\n",
    "    idx = _rangechoice(len(rng),**kwargs)\n",
    "    if not isinstance(idx, Iterable): return rng[idx]\n",
    "    else: return np.asarray(idx) * rng.step + rng.start\n",
    "\n",
    "@typedispatch\n",
    "def _choicedsp(a,**kwargs):                  raise ValueError(f'unknown type {type(a)}')\n",
    "@typedispatch\n",
    "def _choicedsp(a:typing.Dict,**kwargs):      return _choicedsp(list(a), **kwargs)\n",
    "@typedispatch\n",
    "def _choicedsp(a:numbers.Integral,**kwargs): return _choicedsp(range(a),**kwargs)\n",
    "@typedispatch\n",
    "def _choicedsp(a:slice,**kwargs):            return _choicedsp(range(a.start,a.stop,a.step),**kwargs)\n",
    "@typedispatch\n",
    "def _choicedsp(a:range,**kwargs):            return _customrangechoice(a,**kwargs)\n",
    "@typedispatch\n",
    "def _choicedsp(a:(np.ndarray,torch.Tensor,L),**kwargs): idx=_rangechoice(len(a),**kwargs); return a[idx]\n",
    "@typedispatch\n",
    "def _choicedsp(a:(list, tuple),**kwargs):\n",
    "    idx = _rangechoice(len(a),**kwargs); \n",
    "    return a[idx] if kwargs['size'] is None else lmap(lambda i:a[i], idx)\n",
    "\n",
    "@delegates(_rangechoice)\n",
    "def _choice(a,nprs,size=None,**kwargs): return _choicedsp(a,nprs=nprs,size=size,**kwargs)"
   ]
  },
  {
   "cell_type": "code",
   "execution_count": null,
   "metadata": {},
   "outputs": [],
   "source": [
    "def _get_rs(seed=10): return np.random.RandomState(seed)\n",
    "\n",
    "def testc(sz,rp,cw=None,p=None): return _choice([1,2,3,5,6,7],_get_rs(),sz,replace=rp,cum_weights=cw,p=p)\n",
    "test_eq_type(testc(None,False),2)\n",
    "test_eq_type(testc(None,True),6)\n",
    "test_eq_type(testc(1,True),[6])\n",
    "test_eq_type(testc(10,True), [6, 1, 2, 5, 6, 2, 7, 1, 7, 2])\n",
    "test_eq_type(testc(6,False), [2, 6, 3, 7, 5, 1])\n",
    "test_fail(lambda:testc(7,False),contains='Sample larger than population or is negative')\n",
    "\n",
    "test_eq_type(_choice({1:2}, _get_rs()), 1)\n",
    "test_eq_type(_choice(100, _get_rs(), 3), np.array([21, 76, 33]))\n",
    "test_fail(lambda:_choice('ido',_get_rs()), contains='unknown type <class \\'str\\'>')\n",
    "\n",
    "a = np.random.RandomState(10).randn(10,3)\n",
    "def testa(sz,rp,cw=None,p=None): return _choice(a,_get_rs(),sz,replace=rp,cum_weights=cw,p=p)\n",
    "test_eq_type(testa(None,True), a[4])\n",
    "test_eq_type(testa(1,True), a[[4]])\n",
    "testa(3,True,cw=[0.1] + [0.0]*9)\n",
    "p = (np.arange(10)+1)**3 \n",
    "p = p.astype(np.float64)  / p.sum()\n",
    "pcum = p.cumsum()\n",
    "\n",
    "test_eq_type(testa(3, True), a[[4,0,1]])\n",
    "test_eq_type(testa(3, True, cw=pcum), a[[-1,-1,-1]])\n",
    "test_eq_type(testa(3, False, p=p), a[[3,8,9]])"
   ]
  },
  {
   "cell_type": "code",
   "execution_count": null,
   "metadata": {},
   "outputs": [],
   "source": [
    "#export\n",
    "@docs\n",
    "class RandomState:\n",
    "    def __init__(self, seed=None): self.rs=np.random.RandomState(seed=seed)\n",
    "    def perm(self,a): return self.rs.permutation(range(a) if isinstance(a,numbers.Integral) else a)\n",
    "    def choice(self,a,size=None,cum_weights=None): return _choice(a,self.rs,size=size,replace=True, cum_weights=cum_weights)\n",
    "    def sample(self,a,size=None,p=None):           return _choice(a,self.rs,size=size,replace=False,p=p)\n",
    "    def randn(self,size=None):return self.rs.randn(*size)\n",
    "    def rand(self,size=None): return self.rs.random(size=size)\n",
    "    def bool(self,size=None,p=0.5): return self.rand(size) < p\n",
    "    def int(self,low,high=None,size=None,dtype=int): return self.rs.randint(low=low,high=high,size=size,dtype=dtype)\n",
    "    _docs = dict(\n",
    "        cls_doc = 'RandomState numpy\\pythonic. if seed not given, randomly select one.',\n",
    "        perm    = 'Return a random permutation',\n",
    "        choice  = 'Get sample with replacements',\n",
    "        sample  = 'Get sample w.o  replacements',\n",
    "        randn   = 'Return floats in [0, 1)',\n",
    "        rand    = 'Return floats from normal distribution N(0,1)',\n",
    "        bool    = 'Return True with probability p',\n",
    "        int     = 'Return int(ndarray) with in [low, high) ([0, low))',\n",
    "    )"
   ]
  },
  {
   "cell_type": "code",
   "execution_count": null,
   "metadata": {},
   "outputs": [],
   "source": [
    "test_eq_type(RandomState(10).perm(10), np.array([8, 2, 5, 6, 3, 1, 0, 7, 4, 9]))\n",
    "test_eq_type(RandomState(9).perm([[1,2],[3,4]]),np.array([[3, 4],[1, 2]]))"
   ]
  },
  {
   "cell_type": "code",
   "execution_count": null,
   "metadata": {},
   "outputs": [],
   "source": [
    "test_eq(RandomState(10).bool(size=10), [False,True,False,False,True,True,True,False,True,True])\n",
    "test_eq_type(RandomState(10).bool(), False)\n",
    "test_eq_type(RandomState(10).bool(p=0.9), True)\n",
    "test_eq_type(RandomState(10).bool(p=0.1), False)\n",
    "test_eq(RandomState(10).choice([1,2,3]), 1)\n",
    "test_eq(RandomState(10).choice({1:2, 3:4}, 3), [1, 3, 1])\n",
    "test_eq(RandomState(10).sample({1:2, 3:4}, 2), [1,3])\n",
    "\n",
    "test_fail(lambda: RandomState(10).sample([1,2], 3), contains='Sample larger than population or is negative')\n",
    "test_eq(np.round(RandomState(10).rand(3), 3), [0.771, 0.021, 0.634])\n",
    "test_eq(RandomState(10).int(9,size=4), [4, 0, 1, 0])\n",
    "\n",
    "test_eq(RandomState(10).int(9,size=1000).max(), 8)\n",
    "test_eq(RandomState(10).int(9,size=1000).min(), 0)\n",
    "\n",
    "test_eq(RandomState(10).int(1, 9,size=1000).max(), 8)\n",
    "test_eq(RandomState(10).int(1, 9,size=1000).min(), 1)"
   ]
  },
  {
   "cell_type": "code",
   "execution_count": null,
   "metadata": {},
   "outputs": [],
   "source": [
    "from nbdev.sync import notebook2script"
   ]
  },
  {
   "cell_type": "code",
   "execution_count": null,
   "metadata": {},
   "outputs": [
    {
     "name": "stdout",
     "output_type": "stream",
     "text": [
      "Converted 00_functional.ipynb.\n",
      "Converted 01_images.ipynb.\n",
      "Converted 02_fastdl.ipynb.\n",
      "Converted 03_datadownload.ipynb.\n",
      "Converted 04_random.ipynb.\n",
      "Converted index.ipynb.\n"
     ]
    }
   ],
   "source": [
    "notebook2script()"
   ]
  }
 ],
 "metadata": {
  "kernelspec": {
   "display_name": "Python 3",
   "language": "python",
   "name": "python3"
  }
 },
 "nbformat": 4,
 "nbformat_minor": 4
}
